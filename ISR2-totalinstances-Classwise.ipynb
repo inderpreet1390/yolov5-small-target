{
 "cells": [
  {
   "cell_type": "code",
   "execution_count": 11,
   "id": "c6628699",
   "metadata": {},
   "outputs": [
    {
     "name": "stderr",
     "output_type": "stream",
     "text": [
      "C:\\Users\\inder\\anaconda3\\envs\\yolov5\\lib\\site-packages\\numpy\\_distributor_init.py:30: UserWarning: loaded more than 1 DLL from .libs:\n",
      "C:\\Users\\inder\\anaconda3\\envs\\yolov5\\lib\\site-packages\\numpy\\.libs\\libopenblas.GK7GX5KEQ4F6UYO3P26ULGBQYHGQO7J4.gfortran-win_amd64.dll\n",
      "C:\\Users\\inder\\anaconda3\\envs\\yolov5\\lib\\site-packages\\numpy\\.libs\\libopenblas.WCDJNK7YVMPZQ2ME2ZZHJJRJ3JIKNDB7.gfortran-win_amd64.dll\n",
      "  warnings.warn(\"loaded more than 1 DLL from .libs:\"\n"
     ]
    }
   ],
   "source": [
    "import time, glob\n",
    "import matplotlib.pyplot as plt"
   ]
  },
  {
   "cell_type": "code",
   "execution_count": 2,
   "id": "932db2a3",
   "metadata": {},
   "outputs": [
    {
     "name": "stdout",
     "output_type": "stream",
     "text": [
      "I:\\ISR2\\Datasets labels\\Dota\n"
     ]
    }
   ],
   "source": [
    "%cd I:\\ISR2\\Datasets labels\\Dota"
   ]
  },
  {
   "cell_type": "code",
   "execution_count": 9,
   "id": "c2fda690",
   "metadata": {
    "scrolled": true
   },
   "outputs": [
    {
     "name": "stdout",
     "output_type": "stream",
     "text": [
      "Average are of class  plane  : \n",
      "15931.46089885724\n",
      "Average are of class  ship  : \n",
      "2288.312725208994\n",
      "Average are of class  storage-tank  : \n",
      "1724.5162328496415\n",
      "Average are of class  baseball-diamond  : \n",
      "24338.099547511312\n",
      "Average are of class  tennis-court  : \n",
      "16273.806662700774\n",
      "Average are of class  basketball-court  : \n",
      "21628.31625\n",
      "Average are of class  ground-track-field  : \n",
      "101274.4274368231\n",
      "Average are of class  harbor  : \n",
      "26743.33911530815\n",
      "Average are of class  bridge  : \n",
      "8196.824785471961\n",
      "Average are of class  large-vehicle  : \n",
      "2932.811119352446\n",
      "Average are of class  small-vehicle  : \n",
      "501.6403754742943\n",
      "Average are of class  helicopter  : \n",
      "5997.054968287526\n",
      "Average are of class  roundabout  : \n",
      "9728.753395282345\n",
      "Average are of class  soccer-ball-field  : \n",
      "92000.2446143155\n",
      "Average are of class  swimming-pool  : \n",
      "2681.503137188401\n",
      "Average are of class  container-crane  : \n",
      "5675.1551724137935\n",
      "Average are of class  airport  : \n",
      "152767.29776674937\n",
      "Average are of class  helipad  : \n",
      "2732.6470588235293\n",
      "This is the number of lines in the file\n",
      "645063\n",
      "This is the list of class occurences\n",
      "[23452, 111008, 17711, 1326, 6724, 1600, 1385, 20120, 5011, 62018, 383728, 1419, 1399, 1439, 5897, 406, 403, 17]\n"
     ]
    }
   ],
   "source": [
    "file = open(\"all_1644706476.txt\",\"r\")\n",
    "Counter = 0\n",
    "  \n",
    "Content = file.read()\n",
    "CoList = Content.split(\"\\n\")\n",
    "\n",
    "lb=[]\n",
    "cls=[ 'plane', 'ship', 'storage-tank', 'baseball-diamond', 'tennis-court', \n",
    "      'basketball-court', 'ground-track-field', 'harbor', 'bridge', 'large-vehicle', \n",
    "      'small-vehicle', 'helicopter', 'roundabout', 'soccer-ball-field', 'swimming-pool', \n",
    "      'container-crane', 'airport', 'helipad' ]\n",
    "clsi=[0]*len(cls)\n",
    "clsar=[]\n",
    "\n",
    "for i in CoList:\n",
    "    if i:\n",
    "        Counter += 1\n",
    "        tmp=i.split()\n",
    "        clsi[cls.index(tmp[8])]=clsi[cls.index(tmp[8])]+1\n",
    "\n",
    "for i in cls:\n",
    "    tmpls=[]\n",
    "    for j in CoList:\n",
    "        if j:\n",
    "            tmp=j.split()\n",
    "            if(tmp[8]==i):\n",
    "                ar=(float(tmp[2])-float(tmp[0]))*(float(tmp[5])-float(tmp[3]))\n",
    "                tmpls.append(ar)\n",
    "    print(\"Average are of class \",i,' : ')\n",
    "    print(sum(tmpls)/len(tmpls))\n",
    "    clsar.append(sum(tmpls)/len(tmpls))\n",
    "\n",
    "print(\"This is the number of lines in the file\")\n",
    "print(Counter)\n",
    "\n",
    "print(\"This is the list of class occurences\")\n",
    "print(clsi)"
   ]
  },
  {
   "cell_type": "code",
   "execution_count": 39,
   "id": "86ed0011",
   "metadata": {},
   "outputs": [
    {
     "data": {
      "image/png": "[encoded data removed]",
      "text/plain": [
       "<Figure size 2160x360 with 1 Axes>"
      ]
     },
     "metadata": {
      "needs_background": "light"
     },
     "output_type": "display_data"
    }
   ],
   "source": [
    "fig = plt.figure(figsize = (30, 5))\n",
    "\n",
    "plt.bar(cls, clsar)\n",
    " \n",
    "plt.xlabel(\"DOTA dataset classes\")\n",
    "plt.ylabel(\"Average pixel area\")\n",
    "plt.title(\"DOTA dataset classwise pixel area bar graph\")\n",
    "#plt.axhline(y=1024,color='red',label='1024')\n",
    "#plt.legend()\n",
    "plt.show()"
   ]
  },
  {
   "cell_type": "code",
   "execution_count": 19,
   "id": "0a7e581c",
   "metadata": {},
   "outputs": [],
   "source": [
    "path2=r'I:\\ISR2\\Datasets labels\\Visdrone\\all_1644708653.txt'"
   ]
  },
  {
   "cell_type": "code",
   "execution_count": 35,
   "id": "506e9629",
   "metadata": {},
   "outputs": [
    {
     "name": "stdout",
     "output_type": "stream",
     "text": [
      "Average are of class  ignored  : \n",
      "3884.6637921252695\n",
      "Average are of class  pedestrian  : \n",
      "712.287797622799\n",
      "Average are of class  people  : \n",
      "591.5803244761447\n",
      "Average are of class  bicycle  : \n",
      "1221.883396946565\n",
      "Average are of class  car  : \n",
      "3289.2393229652025\n",
      "Average are of class  van  : \n",
      "4113.737538066998\n",
      "Average are of class  truck  : \n",
      "6473.572038834952\n",
      "Average are of class  tricycle  : \n",
      "2547.0234829592687\n",
      "Average are of class  awning-tricycle  : \n",
      "2905.229513247073\n",
      "Average are of class  bus  : \n",
      "6971.600404994938\n",
      "Average are of class  motor  : \n",
      "993.9182042027861\n",
      "Average are of class  others  : \n",
      "3970.176240208877\n",
      "This is the number of lines in the file\n",
      "353550\n",
      "This is the list of class occurences\n",
      "[8813, 79337, 27059, 10480, 144867, 24956, 12875, 4812, 3246, 5926, 29647, 1532]\n"
     ]
    }
   ],
   "source": [
    "file2 = open(path2,\"r\")\n",
    "Counter2 = 0\n",
    "  \n",
    "Content2 = file2.read()\n",
    "CoList2 = Content2.split(\"\\n\")\n",
    "\n",
    "lb2=[]\n",
    "cls2=[ 'ignored','pedestrian','people','bicycle','car','van','truck','tricycle','awning-tricycle','bus','motor','others' ]\n",
    "clsi2=[0]*len(cls2)\n",
    "clsar2=[]\n",
    "\n",
    "for i in CoList2:\n",
    "    if i:\n",
    "        Counter2 += 1\n",
    "        tmp=i.split(',')\n",
    "        clsi2[int(tmp[5])]=clsi2[int(tmp[5])]+1\n",
    "\n",
    "for i in cls2:\n",
    "    tmpls=[]\n",
    "    for j in CoList2:\n",
    "        if j:\n",
    "            tmp=j.split(',')\n",
    "            if(int(tmp[5])==cls2.index(i)):\n",
    "                ar=(float(tmp[2])*float(tmp[3]))\n",
    "                tmpls.append(ar)\n",
    "    print(\"Average are of class \",i,' : ')\n",
    "    print(sum(tmpls)/len(tmpls))\n",
    "    clsar2.append(sum(tmpls)/len(tmpls))\n",
    "\n",
    "print(\"This is the number of lines in the file\")\n",
    "print(Counter2)\n",
    "\n",
    "print(\"This is the list of class occurences\")\n",
    "print(clsi2)"
   ]
  },
  {
   "cell_type": "code",
   "execution_count": 36,
   "id": "3434bb98",
   "metadata": {},
   "outputs": [
    {
     "data": {
      "image/png": "[encoded data removed]",
      "text/plain": [
       "<Figure size 2160x360 with 1 Axes>"
      ]
     },
     "metadata": {
      "needs_background": "light"
     },
     "output_type": "display_data"
    }
   ],
   "source": [
    "fig = plt.figure(figsize = (30, 5))\n",
    "\n",
    "plt.bar(cls2, clsar2)\n",
    " \n",
    "plt.xlabel(\"VisDrone dataset classes\")\n",
    "plt.ylabel(\"Average pixel area\")\n",
    "plt.title(\"VisDrone dataset classwise pixel area bar graph\")\n",
    "plt.show()"
   ]
  },
  {
   "cell_type": "code",
   "execution_count": null,
   "id": "ce1a29a1",
   "metadata": {},
   "outputs": [],
   "source": []
  }
 ],
 "metadata": {
  "kernelspec": {
   "display_name": "Python 3",
   "language": "python",
   "name": "python3"
  },
  "language_info": {
   "codemirror_mode": {
    "name": "ipython",
    "version": 3
   },
   "file_extension": ".py",
   "mimetype": "text/x-python",
   "name": "python",
   "nbconvert_exporter": "python",
   "pygments_lexer": "ipython3",
   "version": "3.8.10"
  }
 },
 "nbformat": 4,
 "nbformat_minor": 5
}
