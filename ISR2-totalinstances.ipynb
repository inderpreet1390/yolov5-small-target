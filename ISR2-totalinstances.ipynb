{
 "cells": [
  {
   "cell_type": "code",
   "execution_count": 1,
   "id": "c6628699",
   "metadata": {},
   "outputs": [],
   "source": [
    "import time, glob\n",
    "\n"
   ]
  },
  {
   "cell_type": "code",
   "execution_count": 2,
   "id": "932db2a3",
   "metadata": {},
   "outputs": [
    {
     "name": "stdout",
     "output_type": "stream",
     "text": [
      "I:\\ISR2\\Datasets labels\\Dota\n"
     ]
    }
   ],
   "source": [
    "%cd I:\\ISR2\\Datasets labels\\Dota"
   ]
  },
  {
   "cell_type": "code",
   "execution_count": 3,
   "id": "c2fda690",
   "metadata": {},
   "outputs": [],
   "source": [
    "import shutil\n",
    "\n",
    "outfilename = 'all_' + str((int(time.time()))) + \".txt\"\n",
    "\n",
    "filenames = glob.glob('*.txt')\n",
    "\n",
    "with open(outfilename, 'w') as outfile:\n",
    "    for fname in filenames:\n",
    "        with open(fname, 'r') as readfile:\n",
    "            outfile.write(readfile.read())"
   ]
  },
  {
   "cell_type": "code",
   "execution_count": 4,
   "id": "0a7e581c",
   "metadata": {},
   "outputs": [
    {
     "name": "stdout",
     "output_type": "stream",
     "text": [
      "I:\\ISR2\\Datasets labels\\Visdrone\n"
     ]
    }
   ],
   "source": [
    "%cd I:\\ISR2\\Datasets labels\\Visdrone"
   ]
  },
  {
   "cell_type": "code",
   "execution_count": 5,
   "id": "506e9629",
   "metadata": {},
   "outputs": [],
   "source": [
    "import shutil\n",
    "\n",
    "outfilename = 'all_' + str((int(time.time()))) + \".txt\"\n",
    "\n",
    "filenames = glob.glob('*.txt')\n",
    "\n",
    "with open(outfilename, 'w') as outfile:\n",
    "    for fname in filenames:\n",
    "        with open(fname, 'r') as readfile:\n",
    "            outfile.write(readfile.read())"
   ]
  },
  {
   "cell_type": "code",
   "execution_count": null,
   "id": "3434bb98",
   "metadata": {},
   "outputs": [],
   "source": []
  }
 ],
 "metadata": {
  "kernelspec": {
   "display_name": "Python 3",
   "language": "python",
   "name": "python3"
  },
  "language_info": {
   "codemirror_mode": {
    "name": "ipython",
    "version": 3
   },
   "file_extension": ".py",
   "mimetype": "text/x-python",
   "name": "python",
   "nbconvert_exporter": "python",
   "pygments_lexer": "ipython3",
   "version": "3.8.10"
  }
 },
 "nbformat": 4,
 "nbformat_minor": 5
}
